{
 "cells": [
  {
   "cell_type": "code",
   "execution_count": 1,
   "metadata": {},
   "outputs": [],
   "source": [
    "import shutil\n",
    "from glob import glob\n",
    "from pathlib import Path\n",
    "import numpy as np\n",
    "import cv2\n",
    "import hashlib\n",
    "import os\n"
   ]
  },
  {
   "cell_type": "code",
   "execution_count": 2,
   "metadata": {},
   "outputs": [],
   "source": [
    "def remove_duplicate_images() -> None:\n",
    "    \"\"\"\n",
    "    Remove duplicate images from the 'no' and 'yes' folders.\n",
    "\n",
    "    This function searches for duplicate images in the 'no' and 'yes' \n",
    "    folders within the brain_tumor_dataset/raw_images directory.\n",
    "    The duplicates are identified by calculating the md5 hash of the image \n",
    "    array and comparing it to the hashes of all other images.\n",
    "    The duplicates are then removed from the folder.\n",
    "    \"\"\"\n",
    "    image_folder = (\n",
    "        Path().cwd().parent\n",
    "        / Path(\"data\")\n",
    "        / Path(\"brain_tumor_dataset\")\n",
    "        / Path(\"raw_images\")\n",
    "    )\n",
    "        \n",
    "    dupes = []\n",
    "    hash_keys = {}\n",
    "\n",
    "    class_folders = [\"no\", \"yes\"]\n",
    "\n",
    "    for f in class_folders:\n",
    "        _folder_path = image_folder / Path(f)   \n",
    "        for i, image in enumerate(_folder_path.glob(\"*\")):\n",
    "            if image.is_file():\n",
    "                img_array = np.array(cv2.imread(str(image)), dtype=object)\n",
    "                file_hash = hashlib.md5(img_array).hexdigest()\n",
    "                if file_hash not in hash_keys:\n",
    "                    hash_keys[file_hash] = i\n",
    "                else:\n",
    "                    dupes.append((i, f\"{hash_keys[file_hash]}: {image}\"))\n",
    "\n",
    "    print(f\"Total number of duplicated images: {len(dupes)}\")\n",
    "\n",
    "    for si, di in dupes:\n",
    "        os.remove(di.split(': ')[1])\n"
   ]
  },
  {
   "cell_type": "code",
   "execution_count": 3,
   "metadata": {},
   "outputs": [],
   "source": [
    "def create_folder_structure() -> None:\n",
    "    \"\"\"\n",
    "    Create the train/test/val folder structure for project images.\n",
    "\n",
    "    This function creates the train/test/val folder structure within the \n",
    "    brain_tumor_dataset/formatted_images directory.\n",
    "    Within each of these folders, it creates 'YES' and 'NO' subfolders \n",
    "    to store images of tumors and non-tumors, respectively.\n",
    "    If the folders already exist, the function does not create them again.\n",
    "    \"\"\"\n",
    "    current_wd = Path().cwd()\n",
    "    image_folder = (\n",
    "        current_wd.parent\n",
    "        / Path(\"data\")\n",
    "        / Path(\"brain_tumor_dataset\")\n",
    "        / Path(\"formatted_images\")\n",
    "    )\n",
    "\n",
    "    train_folder = image_folder / Path(\"TRAIN_IMGS\")\n",
    "    test_folder = image_folder / Path(\"TEST_IMGS\")\n",
    "    validation_folder = image_folder / Path(\"VALIDATION_IMGS\")\n",
    "\n",
    "    yes_folder = Path(\"YES\")\n",
    "    no_folder = Path(\"NO\")\n",
    "\n",
    "    folders = [train_folder, test_folder, validation_folder]\n",
    "    sub_folders = [yes_folder, no_folder]\n",
    "\n",
    "    for f in folders:\n",
    "        if not f.exists():\n",
    "            f.mkdir(parents=True)\n",
    "            print(f\"Folder - {str(f).split('/')[-1]} created.\")\n",
    "            for sf in sub_folders:\n",
    "                sub_folder_dir = f / Path(sf)\n",
    "                if not sub_folder_dir.exists():\n",
    "                    sub_folder_dir.mkdir(parents=True)\n",
    "                    print(f\"SubFolder - {str(sf).split('/')[-1]} created.\")\n",
    "                else:\n",
    "                    print(f\"SubFolder - {str(sf).split('/')[-1]} already exists.\")\n",
    "        else:\n",
    "            print(f\"Folder - {str(f).split('/')[-1]} already exists.\")\n"
   ]
  },
  {
   "cell_type": "code",
   "execution_count": 4,
   "metadata": {},
   "outputs": [],
   "source": [
    "def populate_image_folders() -> None:\n",
    "    \"\"\"\n",
    "    Populate the newly created image folders with those located in the source folders.\n",
    "\n",
    "    This function copies the images from the 'yes' and 'no' folders within \n",
    "    the brain_tumor_dataset/raw_images directory\n",
    "    into the 'TEST_IMGS', 'TRAIN_IMGS', and 'VALIDATION_IMGS' folders within the \n",
    "    brain_tumor_dataset/formatted_images directory.\n",
    "    The images are split into the respective folders based on a 20% test split \n",
    "    and a 10% validation split of the total images.\n",
    "    The images are also renamed to have the 'YES' or 'NO' prefix depending on \n",
    "    their class.\n",
    "    \"\"\"\n",
    "    current_wd = Path().cwd()\n",
    "    source_image_path = (\n",
    "        current_wd.parent\n",
    "        / Path(\"data\")\n",
    "        / Path(\"brain_tumor_dataset\")\n",
    "        / Path(\"raw_images\")\n",
    "    )\n",
    "\n",
    "    classes = [\"yes\", \"no\"]\n",
    "\n",
    "    for c in classes:\n",
    "        class_folder = source_image_path / Path(c)\n",
    "        image_folder_count = len(list(class_folder.glob(\"*\")))\n",
    "        test_split = int(round(image_folder_count * 0.2, 0))\n",
    "        val_split = int(round((image_folder_count - test_split) * 0.1, 0))\n",
    "        for (n, image_path) in enumerate(class_folder.glob(\"*\")):\n",
    "            img = image_path\n",
    "            if n <= test_split:\n",
    "                shutil.copy(\n",
    "                    img,\n",
    "                    source_image_path.parent\n",
    "                    / Path(\"formatted_images\")\n",
    "                    / Path(\"TEST_IMGS\")\n",
    "                    / Path(c.upper()),\n",
    "                )\n",
    "            elif n <= image_folder_count - val_split:\n",
    "                shutil.copy(\n",
    "                    img,\n",
    "                    source_image_path.parent\n",
    "                    / Path(\"formatted_images\")\n",
    "                    / Path(\"TRAIN_IMGS\")\n",
    "                    / Path(c.upper()),\n",
    "                )\n",
    "            else:\n",
    "                shutil.copy(\n",
    "                    img,\n",
    "                    source_image_path.parent\n",
    "                    / Path(\"formatted_images\")\n",
    "                    / Path(\"VALIDATION_IMGS\")\n",
    "                    / Path(c.upper()),\n",
    "                )\n"
   ]
  },
  {
   "cell_type": "code",
   "execution_count": 5,
   "metadata": {},
   "outputs": [],
   "source": [
    "def tidy_filenames_folders() -> None:\n",
    "    \"\"\"\n",
    "    Tidy the filenames of the newly populated test/train/val folders.\n",
    "\n",
    "    This function renames the images within the 'TRAIN_IMGS', 'TEST_IMGS', \n",
    "    and 'VALIDATION_IMGS' folders to remove any spaces and convert the \n",
    "    filenames to uppercase.\n",
    "    \"\"\"\n",
    "    current_wd = Path().cwd()\n",
    "    image_folder = (\n",
    "        current_wd.parent\n",
    "        / Path(\"data\")\n",
    "        / Path(\"brain_tumor_dataset\")\n",
    "        / Path(\"formatted_images\")\n",
    "    )\n",
    "\n",
    "    parent_folders = [\"TRAIN_IMGS\", \"TEST_IMGS\", \"VALIDATION_IMGS\"]\n",
    "    child_folders = [\"YES\", \"NO\"]\n",
    "\n",
    "    for pf in parent_folders:\n",
    "        for cf in child_folders:\n",
    "            image_location = image_folder / Path(pf) / Path(cf)\n",
    "            for img in image_location.glob(\"*\"):\n",
    "                split_filename = str(img).split(\"/\")\n",
    "                new_filename = \"/\".join(split_filename[:-1])\n",
    "                altered_filename = split_filename[-1].replace(\" \", \"_\").upper()\n",
    "                final_filename = new_filename + \"/\" + altered_filename\n",
    "                img.rename(final_filename)\n"
   ]
  },
  {
   "cell_type": "code",
   "execution_count": 6,
   "metadata": {},
   "outputs": [
    {
     "name": "stdout",
     "output_type": "stream",
     "text": [
      "Total number of duplicated images: 25\n"
     ]
    }
   ],
   "source": [
    "remove_duplicate_images()"
   ]
  },
  {
   "cell_type": "code",
   "execution_count": 7,
   "metadata": {},
   "outputs": [
    {
     "name": "stdout",
     "output_type": "stream",
     "text": [
      "Folder - TRAIN_IMGS created.\n",
      "SubFolder - YES created.\n",
      "SubFolder - NO created.\n",
      "Folder - TEST_IMGS created.\n",
      "SubFolder - YES created.\n",
      "SubFolder - NO created.\n",
      "Folder - VALIDATION_IMGS created.\n",
      "SubFolder - YES created.\n",
      "SubFolder - NO created.\n"
     ]
    }
   ],
   "source": [
    "create_folder_structure()\n"
   ]
  },
  {
   "cell_type": "code",
   "execution_count": 8,
   "metadata": {},
   "outputs": [],
   "source": [
    "populate_image_folders()\n"
   ]
  },
  {
   "cell_type": "code",
   "execution_count": 21,
   "metadata": {},
   "outputs": [],
   "source": [
    "tidy_filenames_folders()\n"
   ]
  }
 ],
 "metadata": {
  "interpreter": {
   "hash": "31f2aee4e71d21fbe5cf8b01ff0e069b9275f58929596ceb00d14d90e3e16cd6"
  },
  "kernelspec": {
   "display_name": "Python 3.8.9 64-bit",
   "language": "python",
   "name": "python3"
  },
  "language_info": {
   "codemirror_mode": {
    "name": "ipython",
    "version": 3
   },
   "file_extension": ".py",
   "mimetype": "text/x-python",
   "name": "python",
   "nbconvert_exporter": "python",
   "pygments_lexer": "ipython3",
   "version": "3.8.9"
  },
  "orig_nbformat": 4
 },
 "nbformat": 4,
 "nbformat_minor": 2
}
